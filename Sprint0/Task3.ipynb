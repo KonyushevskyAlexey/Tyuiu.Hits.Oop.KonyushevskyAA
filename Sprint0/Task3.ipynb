{
 "cells": [
  {
   "cell_type": "markdown",
   "metadata": {},
   "source": [
    "<h1 style=\"color:DodgerBlue\">Индивидальный проект</h1>"
   ]
  },
  {
   "cell_type": "markdown",
   "metadata": {},
   "source": [
    "<h2 style=\"color:DodgerBlue\">Название проекта:</h2>\n",
    "\n",
    "----\n",
    "\n",
    "### Вариант задания \n"
   ]
  },
  {
   "cell_type": "markdown",
   "metadata": {},
   "source": [
    "<h2 style=\"color:DodgerBlue\">Описание проекта:</h2>\n",
    "\n",
    "----\n",
    "\n",
    "[ваш текст]\n"
   ]
  },
  {
   "cell_type": "markdown",
   "metadata": {},
   "source": [
    "<h2 style=\"color:DodgerBlue\">Реализация:</h2>\n",
    "\n",
    "----"
   ]
  },
  {
   "cell_type": "code",
   "execution_count": 2,
   "metadata": {
    "dotnet_interactive": {
     "language": "csharp"
    },
    "polyglot_notebook": {
     "kernelName": "csharp"
    }
   },
   "outputs": [
    {
     "name": "stdout",
     "output_type": "stream",
     "text": [
      "Товар Laptop добавлен в онлайн-заказ. Способ доставки: Электронная почта customer@example.com.\n",
      "Товар Mouse добавлен в онлайн-заказ. Способ доставки: Электронная почта customer@example.com.\n",
      "Товар Phone был удален из физического заказа. Возврат будет отправлен на адрес: 123 Main St.\n",
      "Общая сумма заказа с учетом специальных условий: Скидка для постоянного клиента. Итоговая сумма: 450.0.\n",
      "Общая сумма заказа с учетом специальных условий: Скидка для постоянного клиента. Итоговая сумма: 585.0.\n",
      "Общая сумма заказа с учетом специальных условий: Скидка для постоянного клиента. Итоговая сумма: 585.0.\n"
     ]
    }
   ],
   "source": [
    "// Базовый класс Order\n",
    "class Order\n",
    "{\n",
    "    public int OrderId { get; set; }\n",
    "    public DateTime CreationDate { get; set; }\n",
    "    public decimal TotalAmount { get; protected set; }\n",
    "    protected List<Item> items;\n",
    "\n",
    "    public Order(int orderId)\n",
    "    {\n",
    "        OrderId = orderId;\n",
    "        CreationDate = DateTime.Now;\n",
    "        items = new List<Item>();\n",
    "        TotalAmount = 0;\n",
    "    }\n",
    "\n",
    "    // Метод для расчета общей суммы заказа\n",
    "    public virtual void CalculateTotal()\n",
    "    {\n",
    "        TotalAmount = 0;\n",
    "        foreach (var item in items)\n",
    "        {\n",
    "            TotalAmount += item.Price;\n",
    "        }\n",
    "    }\n",
    "\n",
    "    // Метод для добавления элемента в заказ\n",
    "    public virtual void AddItem(Item item)\n",
    "    {\n",
    "        items.Add(item);\n",
    "        CalculateTotal();\n",
    "    }\n",
    "\n",
    "    // Метод для удаления элемента из заказа\n",
    "    public virtual void RemoveItem(Item item)\n",
    "    {\n",
    "        items.Remove(item);\n",
    "        CalculateTotal();\n",
    "    }\n",
    "}\n",
    "\n",
    "// Класс Item для добавления товаров в заказ\n",
    "class Item\n",
    "{\n",
    "    public string Name { get; set; }\n",
    "    public decimal Price { get; set; }\n",
    "\n",
    "    public Item(string name, decimal price)\n",
    "    {\n",
    "        Name = name;\n",
    "        Price = price;\n",
    "    }\n",
    "}\n",
    "\n",
    "// Производный класс OnlineOrder\n",
    "class OnlineOrder : Order\n",
    "{\n",
    "    public string CustomerEmail { get; set; }\n",
    "\n",
    "    public OnlineOrder(int orderId, string customerEmail) : base(orderId)\n",
    "    {\n",
    "        CustomerEmail = customerEmail;\n",
    "    }\n",
    "\n",
    "    // Переопределение метода AddItem с добавлением информации о доставке\n",
    "    public override void AddItem(Item item)\n",
    "    {\n",
    "        base.AddItem(item);\n",
    "        Console.WriteLine($\"Товар {item.Name} добавлен в онлайн-заказ. Способ доставки: Электронная почта {CustomerEmail}.\");\n",
    "    }\n",
    "}\n",
    "\n",
    "// Производный класс PhysicalOrder\n",
    "class PhysicalOrder : Order\n",
    "{\n",
    "    public string DeliveryAddress { get; set; }\n",
    "\n",
    "    public PhysicalOrder(int orderId, string deliveryAddress) : base(orderId)\n",
    "    {\n",
    "        DeliveryAddress = deliveryAddress;\n",
    "    }\n",
    "\n",
    "    // Переопределение метода RemoveItem с добавлением информации о возврате товара\n",
    "    public override void RemoveItem(Item item)\n",
    "    {\n",
    "        base.RemoveItem(item);\n",
    "        Console.WriteLine($\"Товар {item.Name} был удален из физического заказа. Возврат будет отправлен на адрес: {DeliveryAddress}.\");\n",
    "    }\n",
    "}\n",
    "\n",
    "// Производный класс SpecializedOrder\n",
    "class SpecializedOrder : Order\n",
    "{\n",
    "    public string SpecialConditions { get; set; }\n",
    "\n",
    "    public SpecializedOrder(int orderId, string specialConditions) : base(orderId)\n",
    "    {\n",
    "        SpecialConditions = specialConditions;\n",
    "    }\n",
    "\n",
    "    // Переопределение метода CalculateTotal с учетом специальных условий\n",
    "    public override void CalculateTotal()\n",
    "    {\n",
    "        base.CalculateTotal();\n",
    "        // Допустим, по специальным условиям предоставляется скидка 10%\n",
    "        TotalAmount *= 0.9m;\n",
    "        Console.WriteLine($\"Общая сумма заказа с учетом специальных условий: {SpecialConditions}. Итоговая сумма: {TotalAmount}.\");\n",
    "    }\n",
    "}\n",
    "\n",
    "// Тестирование программы\n",
    "    \n",
    "        // Создаем онлайн-заказ\n",
    "        OnlineOrder onlineOrder = new OnlineOrder(1, \"customer@example.com\");\n",
    "        onlineOrder.AddItem(new Item(\"Laptop\", 1000));\n",
    "        onlineOrder.AddItem(new Item(\"Mouse\", 50));\n",
    "\n",
    "        // Создаем физический заказ\n",
    "        PhysicalOrder physicalOrder = new PhysicalOrder(2, \"123 Main St\");\n",
    "        physicalOrder.AddItem(new Item(\"Phone\", 800));\n",
    "        physicalOrder.RemoveItem(new Item(\"Phone\", 800));  // Элемент удаляется\n",
    "\n",
    "        // Создаем специализированный заказ\n",
    "        SpecializedOrder specializedOrder = new SpecializedOrder(3, \"Скидка для постоянного клиента\");\n",
    "        specializedOrder.AddItem(new Item(\"TV\", 500));\n",
    "        specializedOrder.AddItem(new Item(\"Speaker\", 150));\n",
    "        specializedOrder.CalculateTotal();  // Учитываются специальные условия\n",
    "    \n"
   ]
  }
 ],
 "metadata": {
  "kernelspec": {
   "display_name": ".NET (C#)",
   "language": "C#",
   "name": ".net-csharp"
  },
  "polyglot_notebook": {
   "kernelInfo": {
    "defaultKernelName": "csharp",
    "items": [
     {
      "aliases": [],
      "languageName": "csharp",
      "name": "csharp"
     }
    ]
   }
  }
 },
 "nbformat": 4,
 "nbformat_minor": 2
}
